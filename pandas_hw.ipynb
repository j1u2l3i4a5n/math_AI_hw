{
 "cells": [
  {
   "cell_type": "code",
   "execution_count": 30,
   "metadata": {
    "collapsed": false
   },
   "outputs": [],
   "source": [
    "import pandas as pd\n",
    "sol = [\n",
    "    'https://quality.data.gov.tw/dq_download_csv.php?nid=20445&md5_url=02617b73a137339f184e23d92228e18f',\n",
    "    'https://quality.data.gov.tw/dq_download_csv.php?nid=20445&md5_url=9c4ce97e0ae7c8f932aded45224d69be',\n",
    "    'https://quality.data.gov.tw/dq_download_csv.php?nid=20445&md5_url=f6c6fcc2cb2421878b3afbeb6e21dbf0',\n",
    "    'https://quality.data.gov.tw/dq_download_csv.php?nid=20445&md5_url=1d211b23747318b842063a044710a33d',\n",
    "    'https://quality.data.gov.tw/dq_download_csv.php?nid=20445&md5_url=69e2112e764dcec0f59a6f67632b5f78',\n",
    "    'https://quality.data.gov.tw/dq_download_csv.php?nid=20445&md5_url=f0c6bd354934b82699fc3d990e12d485',\n",
    "    'https://quality.data.gov.tw/dq_download_csv.php?nid=20445&md5_url=35c443ffbef36835c110b6d1f0c8fa85',\n",
    "    'https://quality.data.gov.tw/dq_download_csv.php?nid=20445&md5_url=057a246d03fcf728f5fa805040dca29b',\n",
    "    'https://quality.data.gov.tw/dq_download_csv.php?nid=20445&md5_url=cc4dcb49bbf9b23e96d4efedc4083727',\n",
    "    'https://quality.data.gov.tw/dq_download_csv.php?nid=20445&md5_url=71689447358e7700191f1b9a4aecf0ff',\n",
    "    'https://quality.data.gov.tw/dq_download_csv.php?nid=20445&md5_url=478ebd30dfcb66c3c78428408fa8ed62',\n",
    "    'https://quality.data.gov.tw/dq_download_csv.php?nid=20445&md5_url=7e8f71aa7e13eef96c51d174bcc457f4',\n",
    "    'https://quality.data.gov.tw/dq_download_csv.php?nid=20445&md5_url=0813e98c46981f21d497ba335c932081'\n",
    "]\n",
    "sol_data = []\n",
    "for i in sol:\n",
    "    sol_data.append(pd.read_csv(i))\n",
    "    \n"
   ]
  },
  {
   "cell_type": "code",
   "execution_count": 43,
   "metadata": {
    "collapsed": false
   },
   "outputs": [],
   "source": [
    "sol_years = {}\n",
    "for year in sol_data:\n",
    "    sol_year = []\n",
    "    tmp = year.loc[0, '年度']\n",
    "    for i in year.loc[:,'替代役役男訓練人數']:\n",
    "        try:\n",
    "            sol_year.append(int(i.replace(',', '').replace(' ','')))\n",
    "        except:\n",
    "            sol_year.append(i)\n",
    "    sol_years[tmp] = sol_year"
   ]
  },
  {
   "cell_type": "markdown",
   "metadata": {},
   "source": [
    "# 替代役役男訓練人數統計表\n",
    "## 簡介\n",
    "由替代役役男人數的變化了解近年台灣的兵役政策走向。X軸是民國的年份，Y軸是該年度替代役役男的訓練人數\n",
    "## 結論\n",
    "可以發現替代役役男人數近年逐年上升，和近年的精兵政策有關。而102年替代役人數暴漲是由於兵役政策改成民國83年以後出生的役男役期改為四個月，而83年以前出生的人剛好處於政策的過度期，因此有很多人去當替代役。"
   ]
  },
  {
   "cell_type": "code",
   "execution_count": 47,
   "metadata": {
    "collapsed": false
   },
   "outputs": [
    {
     "data": {
      "text/plain": [
       "[<matplotlib.lines.Line2D at 0x290bb157da0>]"
      ]
     },
     "execution_count": 47,
     "metadata": {},
     "output_type": "execute_result"
    },
    {
     "data": {
      "image/png": "[encoded data removed]",
      "text/plain": [
       "<matplotlib.figure.Figure at 0x290bb04f7f0>"
      ]
     },
     "metadata": {},
     "output_type": "display_data"
    }
   ],
   "source": [
    "%matplotlib inline\n",
    "from matplotlib import pyplot as plt\n",
    "x = []\n",
    "y = []\n",
    "for i in sol_years:\n",
    "    x.append(i)\n",
    "    y.append(sum(sol_years[i]))\n",
    "plt.plot(x,y)"
   ]
  }
 ],
 "metadata": {
  "kernelspec": {
   "display_name": "Python 3",
   "language": "python",
   "name": "python3"
  },
  "language_info": {
   "codemirror_mode": {
    "name": "ipython",
    "version": 3
   },
   "file_extension": ".py",
   "mimetype": "text/x-python",
   "name": "python",
   "nbconvert_exporter": "python",
   "pygments_lexer": "ipython3",
   "version": "3.6.0"
  }
 },
 "nbformat": 4,
 "nbformat_minor": 2
}

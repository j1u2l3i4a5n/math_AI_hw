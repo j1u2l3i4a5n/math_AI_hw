{
 "cells": [
  {
   "cell_type": "markdown",
   "metadata": {},
   "source": [
    "## 緒論\n",
    "　　這筆資料蒐集各個國家的個人、公民、經濟的自由指標，而各個自由指標分別有其細項指標分數(如法律、安全、信仰...)及整體指標分數。這次欲觀察個人自由指標中，細項指標是否和總指標有高度關連，並觀察哪種細項指標對總指標影響效果較強。"
   ]
  },
  {
   "cell_type": "code",
   "execution_count": 73,
   "metadata": {
    "collapsed": true
   },
   "outputs": [],
   "source": [
    "#read data\n",
    "#dataset access: https://www.kaggle.com/gsutters/the-human-freedom-index\n",
    "import pandas as pd\n",
    "import numpy as np\n",
    "data = pd.read_csv('hfi_cc_2018.csv')\n"
   ]
  },
  {
   "cell_type": "code",
   "execution_count": 83,
   "metadata": {
    "collapsed": false
   },
   "outputs": [],
   "source": [
    "#remove na data \n",
    "data_na_remove = data[~np.isnan(data.iloc[:,-1])]"
   ]
  },
  {
   "cell_type": "code",
   "execution_count": 167,
   "metadata": {
    "collapsed": true
   },
   "outputs": [],
   "source": [
    "#K-fold\n",
    "from sklearn.model_selection import KFold\n",
    "kf = KFold(n_splits = 10,  random_state=1)"
   ]
  },
  {
   "cell_type": "code",
   "execution_count": 165,
   "metadata": {
    "collapsed": false
   },
   "outputs": [
    {
     "name": "stdout",
     "output_type": "stream",
     "text": [
      "[ 0.          0.          0.          0.          0.          0.0119343   0.\n",
      "  0.03458916  0.          0.          0.          0.          0.          0.\n",
      "  0.          0.04363846  0.          0.          0.00110569  0.          0.\n",
      "  0.05668847  0.          0.          0.          0.          0.          0.\n",
      "  0.          0.          0.          0.          0.00915679  0.          0.\n",
      "  0.          0.          0.          0.          0.          0.          0.\n",
      "  0.10988833  0.          0.          0.          0.          0.          0.\n",
      "  0.          0.          0.04601984  0.0376422   0.          0.          0.\n",
      "  0.0129231 ]\n",
      "pf_ss_disappearances_disap\n",
      "pf_ss_disappearances_organized\n",
      "pf_ss_women_inheritance\n",
      "pf_movement_domestic\n",
      "pf_movement\n",
      "pf_association_political\n",
      "pf_expression_influence\n",
      "pf_identity_parental\n",
      "pf_identity_sex_male\n",
      "pf_identity\n"
     ]
    }
   ],
   "source": [
    "#feature selection\n",
    "from sklearn.linear_model import Lasso\n",
    "train_data = data_na_remove.fillna(data_na_remove.mean())\n",
    "train_x, train_y = train_data.iloc[:,4:61], train_data.iloc[:,61]\n",
    "reg = Lasso().fit(train_x, train_y)\n",
    "print(reg.coef_)\n",
    "for index in range(len(reg.coef_)):\n",
    "    if reg.coef_[index] != 0:\n",
    "        print(train_x.columns[index])"
   ]
  },
  {
   "cell_type": "code",
   "execution_count": 166,
   "metadata": {
    "collapsed": false
   },
   "outputs": [
    {
     "name": "stdout",
     "output_type": "stream",
     "text": [
      "[0.99855806170501626, 0.99835234023938069, 0.99826851303284658, 0.99755633275993738, 0.99660676684256921, 0.99697237924443249, 0.99844653577403186, 0.99532553816980207, 0.99716164493061599, 0.99770343361092617]\n"
     ]
    }
   ],
   "source": [
    "from sklearn.linear_model import LinearRegression, Lasso\n",
    "from sklearn.metrics import r2_score\n",
    "\n",
    "r_square = []\n",
    "for train, test in kf.split(data_na_remove):\n",
    "    train_data = data.loc[train].fillna(data_na_remove.mean())\n",
    "    train_x, train_y = train_data.iloc[:,4:61], train_data.iloc[:,61]\n",
    "    test_data = data.loc[test].fillna(data_na_remove.mean())\n",
    "    test_x, test_y = test_data.iloc[:,4:61], test_data.iloc[:,61]\n",
    "    \n",
    "    reg = LinearRegression().fit(train_x, train_y)\n",
    "    predict_y = reg.predict(test_x)\n",
    "    r_square.append(r2_score(test_y, predict_y))\n",
    "print(r_square)"
   ]
  },
  {
   "cell_type": "markdown",
   "metadata": {},
   "source": [
    "## 結論\n",
    "　　結果發現細項指標和預期的一樣和總指標有高度的關聯，基本上總指標的分數變異都是來自這些細項指標。而其中比較重要的指標有如組織犯罪率、失蹤率、女性繼承權、國內行動自由、男同性戀開放性等等細項指標。可以看出性別、性向議題，以及安全性指標對評斷一個國家的自由程度有很高的影響力。"
   ]
  }
 ],
 "metadata": {
  "kernelspec": {
   "display_name": "Python 3",
   "language": "python",
   "name": "python3"
  },
  "language_info": {
   "codemirror_mode": {
    "name": "ipython",
    "version": 3
   },
   "file_extension": ".py",
   "mimetype": "text/x-python",
   "name": "python",
   "nbconvert_exporter": "python",
   "pygments_lexer": "ipython3",
   "version": "3.6.0"
  }
 },
 "nbformat": 4,
 "nbformat_minor": 2
}

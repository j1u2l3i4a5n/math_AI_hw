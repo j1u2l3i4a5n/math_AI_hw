{
 "cells": [
  {
   "cell_type": "code",
   "execution_count": null,
   "metadata": {
    "collapsed": true
   },
   "outputs": [],
   "source": [
    "# coding: utf-8\n",
    "\n",
    "from keras.datasets import mnist\n",
    "from keras.utils import np_utils\n",
    "from keras.layers import Input, Dense, Conv2D, MaxPooling2D, Flatten\n",
    "from keras.models import Model, Sequential\n",
    "\n",
    "(x_train, y_train), (x_test, y_test) = mnist.load_data()\n",
    "x_train = x_train.reshape(60000, 28, 28, 1)\n",
    "x_train = x_train / 255\n",
    "x_test = x_test.reshape(10000, 28, 28, 1)\n",
    "x_test = x_test / 255\n",
    "y_train = np_utils.to_categorical(y_train, 10)\n",
    "y_test = np_utils.to_categorical(y_test, 10)\n",
    "\n",
    "\n",
    "x = Input(shape=(28, 28, 1))\n",
    "l_1_c = Conv2D(16, (3, 3),strides=1, activation='relu')\n",
    "l_1_p = MaxPooling2D(pool_size=(2, 2))\n",
    "l_2_c = Conv2D(32, (3, 3),strides=1, activation='relu')\n",
    "l_2_p = MaxPooling2D(pool_size=(2, 2))\n",
    "l_3_c = Conv2D(64, (3, 3),strides=1, activation='relu')\n",
    "l_3_p = MaxPooling2D(pool_size=(2, 2))\n",
    "l_f = Flatten()\n",
    "l_d = Dense(128, activation='relu')\n",
    "l_o = Dense(10, activation='sigmoid')\n",
    "\n",
    "h1 = l_1_p(l_1_c(x))\n",
    "h2 = l_2_p(l_2_c(h1))\n",
    "h3 = l_3_p(l_3_c(h2))\n",
    "hf = l_f(h3)\n",
    "hd = l_d(hf)\n",
    "y = l_o(hd)\n",
    "model = Model(x, y)\n",
    "\n",
    "\n",
    "model.compile(loss='categorical_crossentropy', optimizer='adam', metrics=['accuracy'])\n",
    "model.summary()\n",
    "\n",
    "model.fit(x_train, y_train, batch_size=200, epochs=20)\n",
    "loss, accuracy = model.evaluate(x_test, y_test, batch_size=200)\n",
    "print('testing loss: %s'%loss)\n",
    "print('testing accuracy: %s'%accuracy)\n",
    "model.save('mnist.h5')"
   ]
  }
 ],
 "metadata": {
  "kernelspec": {
   "display_name": "Python 3",
   "language": "python",
   "name": "python3"
  },
  "language_info": {
   "codemirror_mode": {
    "name": "ipython",
    "version": 3
   },
   "file_extension": ".py",
   "mimetype": "text/x-python",
   "name": "python",
   "nbconvert_exporter": "python",
   "pygments_lexer": "ipython3",
   "version": "3.6.0"
  }
 },
 "nbformat": 4,
 "nbformat_minor": 2
}
